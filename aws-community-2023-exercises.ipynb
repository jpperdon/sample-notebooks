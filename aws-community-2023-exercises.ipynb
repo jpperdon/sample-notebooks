{
 "cells": [
  {
   "cell_type": "markdown",
   "id": "fc9ad560-4799-40bb-897f-53e2c9e67d83",
   "metadata": {},
   "source": [
    "## AWS Community 2023 (Ephemeral Labs Demo): Curl/OpenSSL/AWSCLI Exercise(s) "
   ]
  },
  {
   "cell_type": "markdown",
   "id": "13437b57-28fe-4798-8ab9-d631b5d70409",
   "metadata": {},
   "source": [
    "### Instructions: \n",
    "- Run Snippet below **Module 1** to generate sample **Quiz**\n",
    "- There are 3 kinds of question(s) for the Objective type: Multiple Choice, Specific Numeric Answer, Choose all Correct Answer"
   ]
  },
  {
   "cell_type": "markdown",
   "id": "244bbc5c-6a07-48d0-a6c7-c7fb4d0fd41d",
   "metadata": {},
   "source": [
    "#### Module 1: Curl & OpenSSL (Objective)"
   ]
  },
  {
   "cell_type": "code",
   "execution_count": null,
   "id": "8c69af44-689e-42ab-b314-b5502cbe7cff",
   "metadata": {},
   "outputs": [],
   "source": [
    "from jupyterquiz import display_quiz\n",
    "sample_exercise=\"https://raw.githubusercontent.com/jpperdon/sample-notebooks/main/exercise.json\"\n",
    "display_quiz(sample_exercise)"
   ]
  },
  {
   "cell_type": "markdown",
   "id": "a3d70c34-7b6e-4afa-9a40-dddeb15b6039",
   "metadata": {},
   "source": [
    "#### Module 2: Curl & OpenSSL (Hands-On)"
   ]
  },
  {
   "cell_type": "markdown",
   "id": "eddacfc5-7109-400e-9d8d-0d5313b960de",
   "metadata": {},
   "source": [
    "1. When was the release date of **Apache Airflow** based on the free API **https://endoflife.date** using CURL?\n",
    "  - Product: **apache-airflow**\n",
    "  - Cycle: **2**\n",
    "  - Reference: **https://endoflife.date/docs/api**"
   ]
  },
  {
   "cell_type": "code",
   "execution_count": null,
   "id": "35891c37-6148-478e-8bbd-e54c4d1f5ca4",
   "metadata": {},
   "outputs": [],
   "source": []
  },
  {
   "cell_type": "markdown",
   "id": "0d1dd3a1-99b3-400c-82c2-a6dc39d62348",
   "metadata": {},
   "source": [
    "2. Check TLS/SSL certificate expiration date of this hub - **https://awscommunity2023-jupyterhub.sandbox.opswerks.net** using OpenSSL"
   ]
  },
  {
   "cell_type": "code",
   "execution_count": null,
   "id": "26657ca4-c328-44d5-80a1-07399b161071",
   "metadata": {},
   "outputs": [],
   "source": []
  },
  {
   "cell_type": "markdown",
   "id": "14cf72c7-3d71-4120-a8f9-4bb6ada4cf6b",
   "metadata": {},
   "source": [
    "#### Module 3: AWS CLI (Hands-On)\n",
    "- Create an S3 Static Website "
   ]
  },
  {
   "cell_type": "markdown",
   "id": "ce2b643d-1140-4025-94f4-c7d37d2345b5",
   "metadata": {},
   "source": [
    "1. Create an S3 Bucket: Syntax = \"demo-aws2023\""
   ]
  },
  {
   "cell_type": "code",
   "execution_count": null,
   "id": "b9a5c13e-0c57-49f1-8894-dc147cf5a7e6",
   "metadata": {},
   "outputs": [],
   "source": []
  },
  {
   "cell_type": "markdown",
   "id": "3915b1ac-139f-4742-91b5-c9b833d4f528",
   "metadata": {},
   "source": [
    "2. Configure the S3 Bucket as a Static Website"
   ]
  },
  {
   "cell_type": "code",
   "execution_count": null,
   "id": "4377806d-f81c-4bed-b20c-d24adfcdc372",
   "metadata": {},
   "outputs": [],
   "source": []
  },
  {
   "cell_type": "markdown",
   "id": "59fadf4f-d774-46ba-bf24-583468c20929",
   "metadata": {},
   "source": [
    "3. Reuse existing \"index.html\" in this directory and upload to created S3 bucket"
   ]
  },
  {
   "cell_type": "code",
   "execution_count": null,
   "id": "32ea1f94-5569-49ed-93d1-70681288601f",
   "metadata": {},
   "outputs": [],
   "source": []
  },
  {
   "cell_type": "markdown",
   "id": "0c953efa-2a2e-424b-bdf4-4378440e5dfc",
   "metadata": {},
   "source": [
    "4. Validate if website is working as expected using CURL"
   ]
  },
  {
   "cell_type": "code",
   "execution_count": null,
   "id": "959068f2-ee44-4181-b72a-c786f19fc1c2",
   "metadata": {},
   "outputs": [],
   "source": []
  }
 ],
 "metadata": {
  "kernelspec": {
   "display_name": "Python 3 (ipykernel)",
   "language": "python",
   "name": "python3"
  },
  "language_info": {
   "codemirror_mode": {
    "name": "ipython",
    "version": 3
   },
   "file_extension": ".py",
   "mimetype": "text/x-python",
   "name": "python",
   "nbconvert_exporter": "python",
   "pygments_lexer": "ipython3",
   "version": "3.9.14"
  }
 },
 "nbformat": 4,
 "nbformat_minor": 5
}
