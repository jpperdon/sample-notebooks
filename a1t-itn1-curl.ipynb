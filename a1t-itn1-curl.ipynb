{
 "cells": [
  {
   "cell_type": "markdown",
   "id": "fc9ad560-4799-40bb-897f-53e2c9e67d83",
   "metadata": {},
   "source": [
    "## A1T-ITN1 (Introduction to Networks): API Basic(s) through Curl"
   ]
  },
  {
   "cell_type": "code",
   "execution_count": null,
   "id": "0647793f-1aa1-41c9-8536-d238f3e71ccd",
   "metadata": {},
   "outputs": [],
   "source": []
  }
 ],
 "metadata": {
  "kernelspec": {
   "display_name": "Python 3 (ipykernel)",
   "language": "python",
   "name": "python3"
  },
  "language_info": {
   "codemirror_mode": {
    "name": "ipython",
    "version": 3
   },
   "file_extension": ".py",
   "mimetype": "text/x-python",
   "name": "python",
   "nbconvert_exporter": "python",
   "pygments_lexer": "ipython3",
   "version": "3.10.8"
  }
 },
 "nbformat": 4,
 "nbformat_minor": 5
}
