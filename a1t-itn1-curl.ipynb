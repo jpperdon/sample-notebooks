{
 "cells": [
  {
   "cell_type": "markdown",
   "id": "fc9ad560-4799-40bb-897f-53e2c9e67d83",
   "metadata": {},
   "source": [
    "## AWS Community 2023 (Ephemeral Labs Demo): Curl/OpenSSL/AWSCLI Exercise(s) "
   ]
  },
  {
   "cell_type": "markdown",
   "id": "13437b57-28fe-4798-8ab9-d631b5d70409",
   "metadata": {},
   "source": [
    "### Part 1: Objective-type\n",
    "#### Instructions: \n",
    "- Run Snippet below to generate sample \"Quiz\"\n",
    "- There are 3 types of question(s) here: Multiple Choice, Specific Numeric Answer, Choose all Correct Answer"
   ]
  },
  {
   "cell_type": "raw",
   "id": "bddda5bd-4218-4191-8f15-40d2444400ef",
   "metadata": {},
   "source": [
    "from jupyterquiz import display_quiz\n",
    "git_url='https://raw.githubusercontent.com/jpperdon/sample-notebooks/main/sample_exercise.json'\n",
    "\n",
    "display_quiz(git_url)"
   ]
  },
  {
   "cell_type": "markdown",
   "id": "994c1c5b-e12f-4000-9642-46de3a323b0b",
   "metadata": {},
   "source": [
    "### Part 2: Hands-on\n",
    "#### Instructions:\n",
    "- Create a sample S3 static website\n",
    "- Use the sample \"index.html\" in this directory"
   ]
  },
  {
   "cell_type": "code",
   "execution_count": 4,
   "id": "d0487e97-b1ba-4920-9af7-f53b92be21a8",
   "metadata": {},
   "outputs": [
    {
     "name": "stdout",
     "output_type": "stream",
     "text": [
      "\n",
      "An error occurred (AccessDenied) when calling the ListBuckets operation: Access Denied\n"
     ]
    }
   ],
   "source": [
    "!aws s3 ls"
   ]
  },
  {
   "cell_type": "code",
   "execution_count": null,
   "id": "3312689d-0a59-4422-9469-f2b5bd6e6a57",
   "metadata": {},
   "outputs": [],
   "source": []
  }
 ],
 "metadata": {
  "kernelspec": {
   "display_name": "Python 3 (ipykernel)",
   "language": "python",
   "name": "python3"
  },
  "language_info": {
   "codemirror_mode": {
    "name": "ipython",
    "version": 3
   },
   "file_extension": ".py",
   "mimetype": "text/x-python",
   "name": "python",
   "nbconvert_exporter": "python",
   "pygments_lexer": "ipython3",
   "version": "3.9.14"
  }
 },
 "nbformat": 4,
 "nbformat_minor": 5
}
